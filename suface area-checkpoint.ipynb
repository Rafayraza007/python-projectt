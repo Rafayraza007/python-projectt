{
 "cells": [
  {
   "cell_type": "markdown",
   "id": "a08073ff",
   "metadata": {},
   "source": [
    "# Area"
   ]
  },
  {
   "cell_type": "code",
   "execution_count": 8,
   "id": "76bb4a70",
   "metadata": {},
   "outputs": [
    {
     "name": "stdout",
     "output_type": "stream",
     "text": [
      "enter a lenght here : 25\n",
      "enter a hight here : 25\n",
      "625.0 meter square\n"
     ]
    }
   ],
   "source": [
    "lenght = float(input(\"enter a lenght here : \"))\n",
    "widht = float(input(\"enter a hight here : \" ))\n",
    "area = (lenght*widht)\n",
    "print(area,\"meter square\")"
   ]
  },
  {
   "cell_type": "markdown",
   "id": "d2f38498",
   "metadata": {},
   "source": [
    "# Sallery"
   ]
  },
  {
   "cell_type": "code",
   "execution_count": 9,
   "id": "6b1cb284",
   "metadata": {},
   "outputs": [
    {
     "name": "stdout",
     "output_type": "stream",
     "text": [
      "enter a area here : 625\n",
      "93750.0\n"
     ]
    }
   ],
   "source": [
    "area = float(input(\"enter a area here : \"))\n",
    "per_meter = 150\n",
    "salerry = (area*per_meter)\n",
    "print(salerry)"
   ]
  },
  {
   "cell_type": "markdown",
   "id": "54f57c01",
   "metadata": {},
   "source": [
    "# Surface area"
   ]
  },
  {
   "cell_type": "code",
   "execution_count": null,
   "id": "851b5b7f",
   "metadata": {},
   "outputs": [],
   "source": [
    "r = 25\n",
    "pi = 3.14\n",
    "surface_area = (0.5*pi*(r*r*r))\n",
    "print(f\"the surface area is {surface_area} \" )"
   ]
  },
  {
   "cell_type": "markdown",
   "id": "c56ef330",
   "metadata": {},
   "source": [
    "# convert leter"
   ]
  },
  {
   "cell_type": "code",
   "execution_count": null,
   "id": "ad05dc4d",
   "metadata": {},
   "outputs": [],
   "source": [
    "surface_area = float(input(\"enter a value : \" ))\n",
    "convert_leter = surface_area*1000\n",
    "print(convert_leter)"
   ]
  },
  {
   "cell_type": "markdown",
   "id": "d9acfa52",
   "metadata": {},
   "source": [
    "# concoluction"
   ]
  },
  {
   "cell_type": "code",
   "execution_count": 16,
   "id": "629194f2",
   "metadata": {},
   "outputs": [
    {
     "name": "stdout",
     "output_type": "stream",
     "text": [
      "\n",
      "the area is 625.0 \n",
      "this sellary is 93750.0\n",
      "the surface area is 24531.25\n",
      "the convert leter is 24531250.0\n",
      "\n"
     ]
    }
   ],
   "source": [
    "print(f\"\"\"\n",
    "the area is {area} \n",
    "this sellary is {salerry}\n",
    "the surface area is {surface_area}\n",
    "the convert leter is {convert_leter}\n",
    "\"\"\")"
   ]
  },
  {
   "cell_type": "code",
   "execution_count": null,
   "id": "cde8992f",
   "metadata": {},
   "outputs": [],
   "source": [
    "24531250"
   ]
  },
  {
   "cell_type": "code",
   "execution_count": null,
   "id": "5f93caa1",
   "metadata": {},
   "outputs": [],
   "source": []
  }
 ],
 "metadata": {
  "kernelspec": {
   "display_name": "Python 3 (ipykernel)",
   "language": "python",
   "name": "python3"
  },
  "language_info": {
   "codemirror_mode": {
    "name": "ipython",
    "version": 3
   },
   "file_extension": ".py",
   "mimetype": "text/x-python",
   "name": "python",
   "nbconvert_exporter": "python",
   "pygments_lexer": "ipython3",
   "version": "3.9.12"
  }
 },
 "nbformat": 4,
 "nbformat_minor": 5
}
