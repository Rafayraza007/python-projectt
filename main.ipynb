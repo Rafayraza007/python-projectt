{
  "nbformat": 4,
  "nbformat_minor": 0,
  "metadata": {
    "colab": {
      "provenance": [],
      "authorship_tag": "ABX9TyM/wU2cD+iYLTurVa3N9MY7",
      "include_colab_link": true
    },
    "kernelspec": {
      "name": "python3",
      "display_name": "Python 3"
    },
    "language_info": {
      "name": "python"
    }
  },
  "cells": [
    {
      "cell_type": "markdown",
      "metadata": {
        "id": "view-in-github",
        "colab_type": "text"
      },
      "source": [
        "<a href=\"https://colab.research.google.com/github/Rafayraza007/python-projectt/blob/main/main.ipynb\" target=\"_parent\"><img src=\"https://colab.research.google.com/assets/colab-badge.svg\" alt=\"Open In Colab\"/></a>"
      ]
    },
    {
      "cell_type": "markdown",
      "source": [
        "# Madical Inventory system"
      ],
      "metadata": {
        "id": "iBbDFJUvl4WB"
      }
    },
    {
      "cell_type": "code",
      "execution_count": null,
      "metadata": {
        "id": "l_CQ_MePjp33"
      },
      "outputs": [],
      "source": [
        "import pandas as pd\n",
        "from tabulate import  tabulate\n"
      ]
    },
    {
      "cell_type": "code",
      "source": [
        "inventory = {} # key : values\n",
        "def add_items():\n",
        "    items = input(\"Enter your med : \")\n",
        "    qty = int(input(\"Enter Qty : \"))\n",
        "    inventory[items] = qty\n",
        "def Remove_items():\n",
        "    items = input(\"Enter remove qty items : \")\n",
        "    if items in inventory:\n",
        "        qty = int(input(\"Enter Qty : \"))\n",
        "        inventory[items] -= qty\n",
        "        if inventory[items] <= 0:\n",
        "            del inventory[items]\n",
        "    else:\n",
        "        print(\"Item not found..!\")\n",
        "def view_items():\n",
        "    df = pd.DataFrame(inventory.items(), columns=['Medicine' , 'Quantity'])\n",
        "    print(df)\n",
        "def invoice_items():\n",
        "    df = pd.DataFrame(inventory.items(), columns=['Medicine' , 'Quantity'])\n",
        "    print(tabulate(df,headers='keys', tablefmt='psql'))\n",
        "while True:\n",
        "    print(\"1) Add item : \")\n",
        "    print(\"2) Remove item : \")\n",
        "    print(\"3) View item : \")\n",
        "    print(\"4) Invoice item : \")\n",
        "    choice = int(input(\"Press Number : \"))\n",
        "    if choice == 1:\n",
        "        add_items()\n",
        "    elif choice == 2:\n",
        "        Remove_items()\n",
        "    elif choice == 3:\n",
        "        view_items()\n",
        "    elif choice == 4:\n",
        "        invoice_items()\n",
        "        break\n",
        "    else:\n",
        "        print(\"invalid number : \")\n",
        "        break"
      ],
      "metadata": {
        "colab": {
          "base_uri": "https://localhost:8080/"
        },
        "id": "xiK4ekpdj3go",
        "outputId": "48871017-b33e-41d7-ae8c-7e461e84dd61"
      },
      "execution_count": null,
      "outputs": [
        {
          "output_type": "stream",
          "name": "stdout",
          "text": [
            "1) Add item : \n",
            "2) Remove item : \n",
            "3) View item : \n",
            "4) Invoice item : \n",
            "Press Number : 1\n",
            "Enter your med : panadool\n",
            "Enter Qty : 50\n",
            "1) Add item : \n",
            "2) Remove item : \n",
            "3) View item : \n",
            "4) Invoice item : \n",
            "Press Number : 1\n",
            "Enter your med : dispring\n",
            "Enter Qty : 100\n",
            "1) Add item : \n",
            "2) Remove item : \n",
            "3) View item : \n",
            "4) Invoice item : \n",
            "Press Number : 1\n",
            "Enter your med : aranic\n",
            "Enter Qty : 40\n",
            "1) Add item : \n",
            "2) Remove item : \n",
            "3) View item : \n",
            "4) Invoice item : \n",
            "Press Number : 4\n",
            "+----+------------+------------+\n",
            "|    | Medicine   |   Quantity |\n",
            "|----+------------+------------|\n",
            "|  0 | panadool   |         50 |\n",
            "|  1 | dispring   |        100 |\n",
            "|  2 | aranic     |         40 |\n",
            "+----+------------+------------+\n"
          ]
        }
      ]
    },
    {
      "cell_type": "code",
      "source": [],
      "metadata": {
        "id": "w3fPPHq1kcNF"
      },
      "execution_count": null,
      "outputs": []
    }
  ]
}